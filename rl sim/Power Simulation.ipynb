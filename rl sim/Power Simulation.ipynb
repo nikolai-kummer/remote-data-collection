{
 "cells": [
  {
   "cell_type": "markdown",
   "metadata": {},
   "source": [
    "# Power Simulation"
   ]
  },
  {
   "cell_type": "code",
   "execution_count": 2,
   "metadata": {},
   "outputs": [],
   "source": [
    "import numpy as np\n",
    "import random"
   ]
  },
  {
   "cell_type": "code",
   "execution_count": 3,
   "metadata": {},
   "outputs": [],
   "source": [
    "def init_state_matrix(number_states:int, number_actions:int):\n",
    "    return np.zeros((number_states, number_actions))\n",
    "\n",
    "def encode_state(power_level, data_flag, time):\n",
    "    return (power_level * N_MINUTES * N_DATA_COLLECT_FLAG) + (time * N_DATA_COLLECT_FLAG) + data_flag\n",
    "\n",
    "def decode_state(state):\n",
    "    data_flag = state % N_DATA_COLLECT_FLAG\n",
    "    state = state // N_DATA_COLLECT_FLAG\n",
    "    time = state % N_MINUTES\n",
    "    power_level = state // N_MINUTES\n",
    "    return power_level, data_flag, time\n",
    "\n",
    "def transition(state, action):\n",
    "    power_level, data_flag, time = decode_state(state)\n",
    "    power_level = max(0, power_level - power_usage[action])\n",
    "\n",
    "    # Update data_flag based on action\n",
    "    if action == 2:  # Transmit data\n",
    "        data_flag = 2  # Data transmitted\n",
    "    elif action in [1, 3] and data_flag != 2:  # Collect data but not if data already transmitted\n",
    "        data_flag = 1\n",
    "\n",
    "    # Increment time and reset flags as necessary\n",
    "    time = (time + 1) % N_MINUTES\n",
    "    if time % 10 == 0:  # Reset data flag every 10 minutes\n",
    "        data_flag = 0\n",
    "\n",
    "    return encode_state(power_level, data_flag, time)\n",
    "\n",
    "def get_reward(state, action):\n",
    "    power_level, data_flag, time = decode_state(state)\n",
    "    reward = 0\n",
    "\n",
    "    if power_level <= 0:\n",
    "        reward -= 10  # Penalty for running out of power\n",
    "    if action == 2 and data_flag == 1:  # Reward for transmitting data\n",
    "        reward += 1\n",
    "    if data_flag == 0:  # Penalty for not collecting data in the last 10 minutes\n",
    "        reward -= 1\n",
    "    if action in [1, 3] and data_flag == 2:  # Penalize for collecting data when it's not needed\n",
    "        reward -= 2\n",
    "\n",
    "    return reward\n",
    "\n",
    "\n",
    "action_list = ['sleep', 'measure', 'transmit', 'measure + transmit']\n",
    "\n",
    "N_DATA_COLLECT_FLAG = 2\n",
    "N_ACTIONS = len(action_list)\n",
    "N_POWER_LEVELS = 100\n",
    "N_MINUTES = 60*24\n",
    "\n",
    "N_STATES = N_POWER_LEVELS * N_MINUTES * N_DATA_COLLECT_FLAG\n",
    "\n",
    "power_usage = {0: 1, 1:5, 2:15, 3:20}\n",
    "\n",
    "\n",
    "\n",
    "\n",
    "# Learning parameters\n",
    "alpha = 0.1  # Learning rate\n",
    "gamma = 0.9  # Discount factor\n",
    "epsilon = 0.1  # Exploration rate\n",
    "num_episodes = 100  # Total number of episodes\n",
    "\n",
    "\n",
    "Q_matrix = init_state_matrix(N_STATES, N_ACTIONS)\n",
    "\n",
    "\n",
    "\n",
    "for episode in range(num_episodes):\n",
    "    current_state = encode_state(50, 0, 0)  # Starting state: 50 power, no data, at midnight\n",
    "\n",
    "    for t in range(N_MINUTES * 3):  # Loop for 3 days\n",
    "        if random.uniform(0, 1) < epsilon:\n",
    "            # Exploration: choose a random action\n",
    "            action = random.randint(0, N_ACTIONS - 1)\n",
    "        else:\n",
    "            # Exploitation: choose the best action based on current Q-values\n",
    "            action = np.argmax(Q_matrix[current_state])\n",
    "\n",
    "        # Perform the action\n",
    "        next_state = transition(current_state, action)\n",
    "        reward = get_reward(next_state, action)\n",
    "\n",
    "        # Q-learning update\n",
    "        best_next_action = np.argmax(Q_matrix[next_state])\n",
    "        td_target = reward + gamma * Q_matrix[next_state][best_next_action]\n",
    "        td_error = td_target - Q_matrix[current_state][action]\n",
    "        Q_matrix[current_state][action] += alpha * td_error\n",
    "\n",
    "        # Move to the next state\n",
    "        current_state = next_state\n",
    "\n",
    "\n",
    "\n",
    "\n",
    "\n"
   ]
  },
  {
   "cell_type": "code",
   "execution_count": 4,
   "metadata": {},
   "outputs": [
    {
     "data": {
      "text/plain": [
       "array([[-27.99710871, -28.34697314, -28.37695739, -27.95124024],\n",
       "       [  0.        ,   0.        ,   0.        ,   0.        ],\n",
       "       [-24.45364891, -24.51989884, -24.01787865, -24.11224495],\n",
       "       ...,\n",
       "       [  0.        ,   0.        ,   0.        ,   0.        ],\n",
       "       [  0.        ,   0.        ,   0.        ,   0.        ],\n",
       "       [  0.        ,   0.        ,   0.        ,   0.        ]])"
      ]
     },
     "execution_count": 4,
     "metadata": {},
     "output_type": "execute_result"
    }
   ],
   "source": [
    "Q_matrix"
   ]
  },
  {
   "cell_type": "code",
   "execution_count": null,
   "metadata": {},
   "outputs": [],
   "source": []
  }
 ],
 "metadata": {
  "kernelspec": {
   "display_name": "eda",
   "language": "python",
   "name": "python3"
  },
  "language_info": {
   "codemirror_mode": {
    "name": "ipython",
    "version": 3
   },
   "file_extension": ".py",
   "mimetype": "text/x-python",
   "name": "python",
   "nbconvert_exporter": "python",
   "pygments_lexer": "ipython3",
   "version": "3.9.16"
  }
 },
 "nbformat": 4,
 "nbformat_minor": 2
}
